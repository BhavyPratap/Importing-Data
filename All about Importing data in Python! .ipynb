{
 "cells": [
  {
   "cell_type": "markdown",
   "metadata": {},
   "source": [
    "# Importing Data in Python by Mr. Harshit Dawar"
   ]
  },
  {
   "cell_type": "markdown",
   "metadata": {},
   "source": [
    "## Using Numpy"
   ]
  },
  {
   "cell_type": "code",
   "execution_count": 1,
   "metadata": {},
   "outputs": [],
   "source": [
    "import numpy as np"
   ]
  },
  {
   "cell_type": "code",
   "execution_count": 13,
   "metadata": {},
   "outputs": [],
   "source": [
    "# Using loadtxt() function of munpy to illustrate loading text files.\n",
    "\n",
    "data = np.loadtxt(\"rp.txt\", dtype=\"str\")"
   ]
  },
  {
   "cell_type": "code",
   "execution_count": 14,
   "metadata": {},
   "outputs": [
    {
     "data": {
      "text/plain": [
       "array(['Generally,', 'solution', 'to', 'Travelling', 'Salesman',\n",
       "       'Problem(TSP)', 'using', 'any', 'algorithm', 'results', 'only',\n",
       "       'in', 'a', 'single', 'path', 'which', 'is', 'optimal', 'path',\n",
       "       'according', 'the', 'algorithm.', 'This', 'can', 'be', 'sometimes',\n",
       "       'not', 'the', 'best', 'path', 'for', 'the', 'user,', 'because',\n",
       "       'it', 'is', 'possible', 'that', 'the', 'user', 'wants', 'to',\n",
       "       'visit', 'any', 'other', 'city', 'first', 'irrespective', 'of',\n",
       "       'some', 'increase', 'in', 'cost', 'for', 'the', 'travelling',\n",
       "       'route.', 'So,', 'the', 'proposed', 'algorithm', 'for', 'the',\n",
       "       'TSP', 'will', 'display', 'all', 'the', 'possible', 'paths', 'in',\n",
       "       'a', 'given', 'scenario', 'with', 'their', 'respective', 'costs',\n",
       "       'using', 'dynamic', 'programming.', 'Based', 'on', 'the', 'cost',\n",
       "       'and', 'user', 'preference,', 'a', 'user', 'can', 'select', 'any',\n",
       "       'of', 'the', 'path', 'displayed.'], dtype='<U12')"
      ]
     },
     "execution_count": 14,
     "metadata": {},
     "output_type": "execute_result"
    }
   ],
   "source": [
    "data"
   ]
  },
  {
   "cell_type": "code",
   "execution_count": null,
   "metadata": {},
   "outputs": [],
   "source": []
  }
 ],
 "metadata": {
  "kernelspec": {
   "display_name": "Python 3",
   "language": "python",
   "name": "python3"
  },
  "language_info": {
   "codemirror_mode": {
    "name": "ipython",
    "version": 3
   },
   "file_extension": ".py",
   "mimetype": "text/x-python",
   "name": "python",
   "nbconvert_exporter": "python",
   "pygments_lexer": "ipython3",
   "version": "3.7.7"
  }
 },
 "nbformat": 4,
 "nbformat_minor": 4
}
