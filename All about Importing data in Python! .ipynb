{
 "cells": [
  {
   "cell_type": "markdown",
   "metadata": {},
   "source": [
    "# Importing Data in Python by Mr. Harshit Dawar"
   ]
  },
  {
   "cell_type": "markdown",
   "metadata": {},
   "source": [
    "## Using Numpy"
   ]
  },
  {
   "cell_type": "code",
   "execution_count": 1,
   "metadata": {},
   "outputs": [],
   "source": [
    "import numpy as np"
   ]
  },
  {
   "cell_type": "code",
   "execution_count": 2,
   "metadata": {},
   "outputs": [],
   "source": [
    "# Using loadtxt() function of munpy to illustrate loading text files.\n",
    "# dtype represents the data-type of the file to be imported.\n",
    "\n",
    "data = np.loadtxt(\"rp.txt\", dtype=\"str\", delimiter=\",\")"
   ]
  },
  {
   "cell_type": "code",
   "execution_count": 3,
   "metadata": {},
   "outputs": [
    {
     "data": {
      "text/plain": [
       "array(['Generally',\n",
       "       ' solution to Travelling Salesman Problem(TSP) using any algorithm results only in a single path which is optimal path according the algorithm. This can be sometimes not the best path for the user',\n",
       "       ' because it is possible that the user wants to visit any other city first irrespective of some increase in cost for the travelling route. So',\n",
       "       ' the proposed algorithm for the TSP will display all the possible paths in a given scenario with their respective costs using dynamic programming. Based on the cost and user preference',\n",
       "       ' a user can select any of the path displayed.'], dtype='<U195')"
      ]
     },
     "execution_count": 3,
     "metadata": {},
     "output_type": "execute_result"
    }
   ],
   "source": [
    "data"
   ]
  },
  {
   "cell_type": "code",
   "execution_count": 4,
   "metadata": {},
   "outputs": [],
   "source": [
    "# Comments here is to ensure that by which symbol comments starts\n",
    "\n",
    "data = np.loadtxt(\"rp.txt\", dtype=\"str\", skiprows = 1 , comments= \"#\")"
   ]
  },
  {
   "cell_type": "code",
   "execution_count": 5,
   "metadata": {},
   "outputs": [
    {
     "data": {
      "text/plain": [
       "array(['Generally,', 'solution', 'to', 'Travelling', 'Salesman',\n",
       "       'Problem(TSP)', 'using', 'any', 'algorithm', 'results', 'only',\n",
       "       'in', 'a', 'single', 'path', 'which', 'is', 'optimal', 'path',\n",
       "       'according', 'the', 'algorithm.', 'This', 'can', 'be', 'sometimes',\n",
       "       'not', 'the', 'best', 'path', 'for', 'the', 'user,', 'because',\n",
       "       'it', 'is', 'possible', 'that', 'the', 'user', 'wants', 'to',\n",
       "       'visit', 'any', 'other', 'city', 'first', 'irrespective', 'of',\n",
       "       'some', 'increase', 'in', 'cost', 'for', 'the', 'travelling',\n",
       "       'route.', 'So,', 'the', 'proposed', 'algorithm', 'for', 'the',\n",
       "       'TSP', 'will', 'display', 'all', 'the', 'possible', 'paths', 'in',\n",
       "       'a', 'given', 'scenario', 'with', 'their', 'respective', 'costs',\n",
       "       'using', 'dynamic', 'programming.', 'Based', 'on', 'the', 'cost',\n",
       "       'and', 'user', 'preference,', 'a', 'user', 'can', 'select', 'any',\n",
       "       'of', 'the', 'path', 'displayed.'], dtype='<U12')"
      ]
     },
     "execution_count": 5,
     "metadata": {},
     "output_type": "execute_result"
    }
   ],
   "source": [
    "data"
   ]
  },
  {
   "cell_type": "code",
   "execution_count": 6,
   "metadata": {},
   "outputs": [],
   "source": [
    "# genfromtxt() function can be used to handle multiple data types by assigning dtype=None,\n",
    "# and names = True for telling that the dataset contains header\n",
    "data = np.genfromtxt(\"rp.txt\", dtype=\"str\", delimiter=\",\")"
   ]
  },
  {
   "cell_type": "code",
   "execution_count": 7,
   "metadata": {},
   "outputs": [
    {
     "data": {
      "text/plain": [
       "array(['Generally',\n",
       "       ' solution to Travelling Salesman Problem(TSP) using any algorithm results only in a single path which is optimal path according the algorithm. This can be sometimes not the best path for the user',\n",
       "       ' because it is possible that the user wants to visit any other city first irrespective of some increase in cost for the travelling route. So',\n",
       "       ' the proposed algorithm for the TSP will display all the possible paths in a given scenario with their respective costs using dynamic programming. Based on the cost and user preference',\n",
       "       ' a user can select any of the path displayed.'], dtype='<U195')"
      ]
     },
     "execution_count": 7,
     "metadata": {},
     "output_type": "execute_result"
    }
   ],
   "source": [
    "data"
   ]
  },
  {
   "cell_type": "code",
   "execution_count": 18,
   "metadata": {},
   "outputs": [
    {
     "name": "stdout",
     "output_type": "stream",
     "text": [
      "['Generally,' 'solution' 'to' 'Travelling' 'Salesman' 'Problem(TSP)'\n",
      " 'using' 'any' 'algorithm' 'results' 'only' 'in' 'a' 'single' 'path'\n",
      " 'which' 'is' 'optimal' 'path' 'according' 'the' 'algorithm.' 'This' 'can'\n",
      " 'be' 'sometimes' 'not' 'the' 'best' 'path' 'for' 'the' 'user,' 'because'\n",
      " 'it' 'is' 'possible' 'that' 'the' 'user' 'wants' 'to' 'visit' 'any'\n",
      " 'other' 'city' 'first' 'irrespective' 'of' 'some' 'increase' 'in' 'cost'\n",
      " 'for' 'the' 'travelling' 'route.' 'So,' 'the' 'proposed' 'algorithm'\n",
      " 'for' 'the' 'TSP' 'will' 'display' 'all' 'the' 'possible' 'paths' 'in'\n",
      " 'a' 'given' 'scenario' 'with' 'their' 'respective' 'costs' 'using'\n",
      " 'dynamic' 'programming.' 'Based' 'on' 'the' 'cost' 'and' 'user'\n",
      " 'preference,' 'a' 'user' 'can' 'select' 'any' 'of' 'the' 'path'\n",
      " 'displayed.']\n"
     ]
    }
   ],
   "source": [
    "# np.recfromtxt/np.recfromcsv, its default dtype =None, names=True, and delimiter = “,\"\n",
    "\n",
    "print(np.recfromtxt(\"rp.txt\", encoding=None))"
   ]
  },
  {
   "cell_type": "markdown",
   "metadata": {},
   "source": [
    "## Using Pandas"
   ]
  },
  {
   "cell_type": "code",
   "execution_count": 9,
   "metadata": {},
   "outputs": [
    {
     "data": {
      "text/plain": [
       "array([[1., 0., 0., 0., 0.],\n",
       "       [0., 1., 0., 0., 0.],\n",
       "       [0., 0., 1., 0., 0.],\n",
       "       [0., 0., 0., 1., 0.],\n",
       "       [0., 0., 0., 0., 1.]])"
      ]
     },
     "execution_count": 9,
     "metadata": {},
     "output_type": "execute_result"
    }
   ],
   "source": [
    "np.eye(5,5)"
   ]
  },
  {
   "cell_type": "code",
   "execution_count": 10,
   "metadata": {},
   "outputs": [],
   "source": [
    "import matplotlib.pyplot as plt\n",
    "import seaborn as sns"
   ]
  },
  {
   "cell_type": "code",
   "execution_count": 11,
   "metadata": {},
   "outputs": [
    {
     "data": {
      "image/png": "[encoded data removed]",
      "text/plain": [
       "<Figure size 432x288 with 1 Axes>"
      ]
     },
     "metadata": {
      "needs_background": "light"
     },
     "output_type": "display_data"
    }
   ],
   "source": [
    "plt.scatter(np.arange(0,100,0.5), np.arange(500,600, 0.5)); plt.grid();  sns.set()"
   ]
  },
  {
   "cell_type": "code",
   "execution_count": 12,
   "metadata": {},
   "outputs": [
    {
     "data": {
      "image/png": "[encoded data removed]",
      "text/plain": [
       "<Figure size 432x288 with 1 Axes>"
      ]
     },
     "metadata": {},
     "output_type": "display_data"
    }
   ],
   "source": [
    "plt.hist(np.arange(1,100,5),50)\n",
    "plt.show()"
   ]
  },
  {
   "cell_type": "code",
   "execution_count": 13,
   "metadata": {},
   "outputs": [
    {
     "data": {
      "text/plain": [
       "array([ 1,  6, 11, 16, 21, 26, 31, 36, 41, 46, 51, 56, 61, 66, 71, 76, 81,\n",
       "       86, 91, 96])"
      ]
     },
     "execution_count": 13,
     "metadata": {},
     "output_type": "execute_result"
    }
   ],
   "source": [
    "np.arange(1,100,5)"
   ]
  },
  {
   "cell_type": "code",
   "execution_count": 14,
   "metadata": {},
   "outputs": [
    {
     "data": {
      "image/png": "[encoded data removed]",
      "text/plain": [
       "<Figure size 1080x360 with 1 Axes>"
      ]
     },
     "metadata": {},
     "output_type": "display_data"
    }
   ],
   "source": [
    "plt.figure(figsize=(15,5))\n",
    "plt.scatter(np.arange(1,57,0.1), np.sin(np.arange(1,57,0.1)), c= \"red\")\n",
    "plt.scatter( np.arange(1,57, 0.1), np.cos(np.arange(1,57, 0.1)), c = \"purple\")\n",
    "plt.xlabel('x axis label')\n",
    "plt.ylabel('y axis label')\n",
    "plt.title('Sine and Cosine')\n",
    "plt.legend(['Sine', 'Cosine'])\n",
    "plt.show()"
   ]
  },
  {
   "cell_type": "code",
   "execution_count": 15,
   "metadata": {},
   "outputs": [],
   "source": [
    "import pandas as pd"
   ]
  },
  {
   "cell_type": "code",
   "execution_count": 16,
   "metadata": {},
   "outputs": [],
   "source": [
    "c = pd.Series([\"a\", \"b\", \"c\",\"d\",\"e\"])"
   ]
  },
  {
   "cell_type": "code",
   "execution_count": 17,
   "metadata": {},
   "outputs": [
    {
     "ename": "AttributeError",
     "evalue": "'numpy.ndarray' object has no attribute 'head'",
     "output_type": "error",
     "traceback": [
      "\u001b[0;31m---------------------------------------------------------------------------\u001b[0m",
      "\u001b[0;31mAttributeError\u001b[0m                            Traceback (most recent call last)",
      "\u001b[0;32m<ipython-input-17-304fa4ce4ebd>\u001b[0m in \u001b[0;36m<module>\u001b[0;34m\u001b[0m\n\u001b[0;32m----> 1\u001b[0;31m \u001b[0mdata\u001b[0m\u001b[0;34m.\u001b[0m\u001b[0mhead\u001b[0m\u001b[0;34m(\u001b[0m\u001b[0;34m)\u001b[0m\u001b[0;34m\u001b[0m\u001b[0;34m\u001b[0m\u001b[0m\n\u001b[0m",
      "\u001b[0;31mAttributeError\u001b[0m: 'numpy.ndarray' object has no attribute 'head'"
     ]
    }
   ],
   "source": [
    "data.head()"
   ]
  },
  {
   "cell_type": "code",
   "execution_count": null,
   "metadata": {
    "scrolled": true
   },
   "outputs": [],
   "source": [
    "data.dtypes"
   ]
  },
  {
   "cell_type": "code",
   "execution_count": null,
   "metadata": {},
   "outputs": [],
   "source": [
    "data.sum(), data.shape"
   ]
  },
  {
   "cell_type": "code",
   "execution_count": null,
   "metadata": {},
   "outputs": [],
   "source": [
    "data.sample(frac = 0.0001)"
   ]
  },
  {
   "cell_type": "code",
   "execution_count": null,
   "metadata": {},
   "outputs": [],
   "source": [
    "data.loc[:5]"
   ]
  },
  {
   "cell_type": "code",
   "execution_count": null,
   "metadata": {},
   "outputs": [],
   "source": [
    "data.index"
   ]
  },
  {
   "cell_type": "code",
   "execution_count": null,
   "metadata": {},
   "outputs": [],
   "source": [
    "data.drop([\"longitude\"], axis = 1)"
   ]
  },
  {
   "cell_type": "code",
   "execution_count": null,
   "metadata": {},
   "outputs": [],
   "source": [
    "import folium\n",
    "import pandas as pd"
   ]
  },
  {
   "cell_type": "code",
   "execution_count": null,
   "metadata": {},
   "outputs": [],
   "source": [
    "s = pd.Series([1,5,2])\n",
    "l = [1,2,3,]"
   ]
  },
  {
   "cell_type": "code",
   "execution_count": null,
   "metadata": {
    "scrolled": true
   },
   "outputs": [],
   "source": [
    "data = pd.DataFrame([1,2,3,4,5,1,2,3,4,5],[342,234,234,1,312,13,123,123,123,123], columns=[\"Values\"])"
   ]
  },
  {
   "cell_type": "code",
   "execution_count": null,
   "metadata": {},
   "outputs": [],
   "source": [
    "data"
   ]
  },
  {
   "cell_type": "code",
   "execution_count": null,
   "metadata": {},
   "outputs": [],
   "source": [
    "print(data.loc[:2])"
   ]
  },
  {
   "cell_type": "code",
   "execution_count": null,
   "metadata": {},
   "outputs": [],
   "source": [
    "data.reset_index(drop=True, inplace=True)"
   ]
  },
  {
   "cell_type": "code",
   "execution_count": null,
   "metadata": {},
   "outputs": [],
   "source": [
    "data"
   ]
  },
  {
   "cell_type": "code",
   "execution_count": null,
   "metadata": {},
   "outputs": [],
   "source": [
    "data = pd.read_csv(\"https://download.mlcc.google.com/mledu-datasets/california_housing_train.csv\")"
   ]
  },
  {
   "cell_type": "code",
   "execution_count": null,
   "metadata": {},
   "outputs": [],
   "source": [
    "data.shape"
   ]
  },
  {
   "cell_type": "code",
   "execution_count": null,
   "metadata": {},
   "outputs": [],
   "source": [
    "data.head()"
   ]
  },
  {
   "cell_type": "code",
   "execution_count": null,
   "metadata": {},
   "outputs": [],
   "source": [
    "data.groupby(\"latitude\").median()"
   ]
  },
  {
   "cell_type": "code",
   "execution_count": null,
   "metadata": {},
   "outputs": [],
   "source": [
    "len(data[\"latitude\"].unique())"
   ]
  },
  {
   "cell_type": "code",
   "execution_count": null,
   "metadata": {},
   "outputs": [],
   "source": [
    "data.drop(\"latitude\", axis = 1, inplace=True)"
   ]
  },
  {
   "cell_type": "code",
   "execution_count": null,
   "metadata": {},
   "outputs": [],
   "source": [
    "data.head()"
   ]
  },
  {
   "cell_type": "code",
   "execution_count": null,
   "metadata": {},
   "outputs": [],
   "source": [
    "import matplotlib.pyplot as plt\n",
    "fig = plt.figure(figsize=(10,10))\n",
    "plt.show()"
   ]
  },
  {
   "cell_type": "code",
   "execution_count": null,
   "metadata": {},
   "outputs": [],
   "source": []
  }
 ],
 "metadata": {
  "kernelspec": {
   "display_name": "Python 3",
   "language": "python",
   "name": "python3"
  },
  "language_info": {
   "codemirror_mode": {
    "name": "ipython",
    "version": 3
   },
   "file_extension": ".py",
   "mimetype": "text/x-python",
   "name": "python",
   "nbconvert_exporter": "python",
   "pygments_lexer": "ipython3",
   "version": "3.7.7"
  }
 },
 "nbformat": 4,
 "nbformat_minor": 4
}
