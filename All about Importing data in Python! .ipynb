{
 "cells": [
  {
   "cell_type": "markdown",
   "metadata": {},
   "source": [
    "# Importing Data in Python by Mr. Harshit Dawar"
   ]
  },
  {
   "cell_type": "markdown",
   "metadata": {},
   "source": [
    "## Using Numpy"
   ]
  },
  {
   "cell_type": "code",
   "execution_count": 1,
   "metadata": {},
   "outputs": [],
   "source": [
    "import numpy as np"
   ]
  },
  {
   "cell_type": "code",
   "execution_count": 19,
   "metadata": {},
   "outputs": [],
   "source": [
    "# Using loadtxt() function of munpy to illustrate loading text files.\n",
    "# dtype represents the data-type of the file to be imported.\n",
    "\n",
    "data = np.loadtxt(\"rp.txt\", dtype=\"str\", delimiter=\",\")"
   ]
  },
  {
   "cell_type": "code",
   "execution_count": 18,
   "metadata": {},
   "outputs": [
    {
     "data": {
      "text/plain": [
       "array('Generally, solution to Travelling Salesman Problem(TSP) using any algorithm results only in a single path which is optimal path according the algorithm. This can be sometimes not the best path for the user, because it is possible that the user wants to visit any other city first irrespective of some increase in cost for the travelling route. So, the proposed algorithm for the TSP will display all the possible paths in a given scenario with their respective costs using dynamic programming. Based on the cost and user preference, a user can select any of the path displayed.',\n",
       "      dtype='<U577')"
      ]
     },
     "execution_count": 18,
     "metadata": {},
     "output_type": "execute_result"
    }
   ],
   "source": [
    "data"
   ]
  },
  {
   "cell_type": "code",
   "execution_count": 43,
   "metadata": {},
   "outputs": [],
   "source": [
    "# Comments here is to ensure that by which symbol comments starts\n",
    "\n",
    "data = np.loadtxt(\"rp.txt\", dtype=\"str\", skiprows = 1 , comments= \"#\")"
   ]
  },
  {
   "cell_type": "code",
   "execution_count": 44,
   "metadata": {},
   "outputs": [
    {
     "data": {
      "text/plain": [
       "array(['Generally,', 'solution', 'to', 'Travelling', 'Salesman',\n",
       "       'Problem(TSP)', 'using', 'any', 'algorithm', 'results', 'only',\n",
       "       'in', 'a', 'single', 'path', 'which', 'is', 'optimal', 'path',\n",
       "       'according', 'the', 'algorithm.', 'This', 'can', 'be', 'sometimes',\n",
       "       'not', 'the', 'best', 'path', 'for', 'the', 'user,', 'because',\n",
       "       'it', 'is', 'possible', 'that', 'the', 'user', 'wants', 'to',\n",
       "       'visit', 'any', 'other', 'city', 'first', 'irrespective', 'of',\n",
       "       'some', 'increase', 'in', 'cost', 'for', 'the', 'travelling',\n",
       "       'route.', 'So,', 'the', 'proposed', 'algorithm', 'for', 'the',\n",
       "       'TSP', 'will', 'display', 'all', 'the', 'possible', 'paths', 'in',\n",
       "       'a', 'given', 'scenario', 'with', 'their', 'respective', 'costs',\n",
       "       'using', 'dynamic', 'programming.', 'Based', 'on', 'the', 'cost',\n",
       "       'and', 'user', 'preference,', 'a', 'user', 'can', 'select', 'any',\n",
       "       'of', 'the', 'path', 'displayed.'], dtype='<U12')"
      ]
     },
     "execution_count": 44,
     "metadata": {},
     "output_type": "execute_result"
    }
   ],
   "source": [
    "data"
   ]
  },
  {
   "cell_type": "code",
   "execution_count": 47,
   "metadata": {},
   "outputs": [],
   "source": [
    "# genfromtxt() function can be used to handle multiple data types by assigning dtype=None,\n",
    "# and names = True for telling that the dataset contains header\n",
    "data = np.genfromtxt(\"rp.txt\", dtype=\"str\")"
   ]
  },
  {
   "cell_type": "code",
   "execution_count": 48,
   "metadata": {},
   "outputs": [
    {
     "data": {
      "text/plain": [
       "array(['Generally,', 'solution', 'to', 'Travelling', 'Salesman',\n",
       "       'Problem(TSP)', 'using', 'any', 'algorithm', 'results', 'only',\n",
       "       'in', 'a', 'single', 'path', 'which', 'is', 'optimal', 'path',\n",
       "       'according', 'the', 'algorithm.', 'This', 'can', 'be', 'sometimes',\n",
       "       'not', 'the', 'best', 'path', 'for', 'the', 'user,', 'because',\n",
       "       'it', 'is', 'possible', 'that', 'the', 'user', 'wants', 'to',\n",
       "       'visit', 'any', 'other', 'city', 'first', 'irrespective', 'of',\n",
       "       'some', 'increase', 'in', 'cost', 'for', 'the', 'travelling',\n",
       "       'route.', 'So,', 'the', 'proposed', 'algorithm', 'for', 'the',\n",
       "       'TSP', 'will', 'display', 'all', 'the', 'possible', 'paths', 'in',\n",
       "       'a', 'given', 'scenario', 'with', 'their', 'respective', 'costs',\n",
       "       'using', 'dynamic', 'programming.', 'Based', 'on', 'the', 'cost',\n",
       "       'and', 'user', 'preference,', 'a', 'user', 'can', 'select', 'any',\n",
       "       'of', 'the', 'path', 'displayed.'], dtype='<U12')"
      ]
     },
     "execution_count": 48,
     "metadata": {},
     "output_type": "execute_result"
    }
   ],
   "source": [
    "data"
   ]
  },
  {
   "cell_type": "code",
   "execution_count": 50,
   "metadata": {},
   "outputs": [
    {
     "data": {
      "text/plain": [
       "rec.array([b'Generally,', b'solution', b'to', b'Travelling', b'Salesman',\n",
       "           b'Problem(TSP)', b'using', b'any', b'algorithm', b'results',\n",
       "           b'only', b'in', b'a', b'single', b'path', b'which', b'is',\n",
       "           b'optimal', b'path', b'according', b'the', b'algorithm.',\n",
       "           b'This', b'can', b'be', b'sometimes', b'not', b'the', b'best',\n",
       "           b'path', b'for', b'the', b'user,', b'because', b'it', b'is',\n",
       "           b'possible', b'that', b'the', b'user', b'wants', b'to',\n",
       "           b'visit', b'any', b'other', b'city', b'first', b'irrespective',\n",
       "           b'of', b'some', b'increase', b'in', b'cost', b'for', b'the',\n",
       "           b'travelling', b'route.', b'So,', b'the', b'proposed',\n",
       "           b'algorithm', b'for', b'the', b'TSP', b'will', b'display',\n",
       "           b'all', b'the', b'possible', b'paths', b'in', b'a', b'given',\n",
       "           b'scenario', b'with', b'their', b'respective', b'costs',\n",
       "           b'using', b'dynamic', b'programming.', b'Based', b'on', b'the',\n",
       "           b'cost', b'and', b'user', b'preference,', b'a', b'user',\n",
       "           b'can', b'select', b'any', b'of', b'the', b'path',\n",
       "           b'displayed.'],\n",
       "          dtype=|S12)"
      ]
     },
     "execution_count": 50,
     "metadata": {},
     "output_type": "execute_result"
    }
   ],
   "source": [
    "# np.recfromtxt/np.recfromcsv, its default dtype =None, names=True, and delimiter = “,\"\n",
    "\n",
    "np.recfromtxt(\"rp.txt\")"
   ]
  },
  {
   "cell_type": "code",
   "execution_count": null,
   "metadata": {},
   "outputs": [],
   "source": []
  }
 ],
 "metadata": {
  "kernelspec": {
   "display_name": "Python 3",
   "language": "python",
   "name": "python3"
  },
  "language_info": {
   "codemirror_mode": {
    "name": "ipython",
    "version": 3
   },
   "file_extension": ".py",
   "mimetype": "text/x-python",
   "name": "python",
   "nbconvert_exporter": "python",
   "pygments_lexer": "ipython3",
   "version": "3.7.7"
  }
 },
 "nbformat": 4,
 "nbformat_minor": 4
}
